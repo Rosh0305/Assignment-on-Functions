{
  "nbformat": 4,
  "nbformat_minor": 0,
  "metadata": {
    "colab": {
      "provenance": []
    },
    "kernelspec": {
      "name": "python3",
      "display_name": "Python 3"
    },
    "language_info": {
      "name": "python"
    }
  },
  "cells": [
    {
      "cell_type": "markdown",
      "source": [
        " 1. What is the difference between a function and a method in Python?"
      ],
      "metadata": {
        "id": "uu5wiwQD-Zxt"
      }
    },
    {
      "cell_type": "markdown",
      "source": [
        "Functions are defined independently and can be called anywhere in your code.Defined using the def keyword followed by the function name and parentheses."
      ],
      "metadata": {
        "id": "U1gZhcbDQi-Z"
      }
    },
    {
      "cell_type": "code",
      "source": [
        "\n",
        "#function example\n",
        "def add(a,b):\n",
        "  return a+b\n",
        "\n",
        "result = add(3,5)\n",
        "print(result)"
      ],
      "metadata": {
        "id": "BIa6XcihQnzY",
        "colab": {
          "base_uri": "https://localhost:8080/"
        },
        "outputId": "0142fb9b-b9e7-4acf-a70f-93cc09dba97b"
      },
      "execution_count": null,
      "outputs": [
        {
          "output_type": "stream",
          "name": "stdout",
          "text": [
            "8\n"
          ]
        }
      ]
    },
    {
      "cell_type": "markdown",
      "source": [
        "Methods are functions that are associated with an object. They are defined within a class and can operate on data contained within the object.\n",
        "its syntax is Defined similarly to functions but within a class."
      ],
      "metadata": {
        "id": "cE0Dg2niQx4e"
      }
    },
    {
      "cell_type": "code",
      "source": [
        "class Dog:\n",
        "  def bark(self):\n",
        "    return \"Woof!\"\n",
        "\n",
        "my_dog = Dog()\n",
        "result = my_dog.bark()\n",
        "print(result)\n",
        "\n"
      ],
      "metadata": {
        "id": "B2UiCHZVQ51X",
        "colab": {
          "base_uri": "https://localhost:8080/"
        },
        "outputId": "a9ab42d2-a96f-4c23-cc46-f733545ab23f"
      },
      "execution_count": null,
      "outputs": [
        {
          "output_type": "stream",
          "name": "stdout",
          "text": [
            "Woof!\n"
          ]
        }
      ]
    },
    {
      "cell_type": "markdown",
      "source": [
        " 2. Explain the concept of function arguments and parameters in Python"
      ],
      "metadata": {
        "id": "QCX8tyw7-3ga"
      }
    },
    {
      "cell_type": "markdown",
      "source": [
        "parameters and arguments are concepts that are used to pass information to functions. A parameter is a variable that is defined by the function that will receive a value when the function is called. An argument, on the other hand, is the actual value that is given to the function when it is called."
      ],
      "metadata": {
        "id": "oJ8l_0PLPAXK"
      }
    },
    {
      "cell_type": "code",
      "source": [
        "def greet (name):\n",
        "  return f\"Hello, {name}!\"\n",
        "\n",
        "#function call with argument\n",
        "result = greet(\"Alice\")\n",
        "print(result)\n"
      ],
      "metadata": {
        "id": "w5y1qjxi-4B6",
        "colab": {
          "base_uri": "https://localhost:8080/"
        },
        "outputId": "ca272455-fa9d-42db-c8d3-ba586feb6887"
      },
      "execution_count": null,
      "outputs": [
        {
          "output_type": "stream",
          "name": "stdout",
          "text": [
            "Hello, Alice!\n"
          ]
        }
      ]
    },
    {
      "cell_type": "markdown",
      "source": [
        " 3. What are the different ways to define and call a function in Python?"
      ],
      "metadata": {
        "id": "Oo7cPGJH_Dsb"
      }
    },
    {
      "cell_type": "markdown",
      "source": [
        "You can define a function using a 'def' keywords, lamda functions ,even within classes as well."
      ],
      "metadata": {
        "id": "ZU9lhgJcPjjj"
      }
    },
    {
      "cell_type": "code",
      "source": [
        " def function_name(parameters):\n",
        "  \"\"\"docstring\"\"\"\n",
        "  statement(s)\n",
        "  return [expression]"
      ],
      "metadata": {
        "id": "6HkJ_9XV_EGI"
      },
      "execution_count": null,
      "outputs": []
    },
    {
      "cell_type": "code",
      "source": [
        "def add(x,y):\n",
        "  return x+y\n",
        "result = add(5,4)\n",
        "result"
      ],
      "metadata": {
        "colab": {
          "base_uri": "https://localhost:8080/"
        },
        "id": "49pYoS1xP2IM",
        "outputId": "c3b0adfa-d498-4e72-b847-0aa7c5926312"
      },
      "execution_count": null,
      "outputs": [
        {
          "output_type": "execute_result",
          "data": {
            "text/plain": [
              "9"
            ]
          },
          "metadata": {},
          "execution_count": 58
        }
      ]
    },
    {
      "cell_type": "markdown",
      "source": [
        "4. What is the purpose of the `return` statement in a Python function?"
      ],
      "metadata": {
        "id": "A7rZgIifCoze"
      }
    },
    {
      "cell_type": "markdown",
      "source": [
        "return statement in Python is used to exit a function and return a value to the caller,return statement is often placed at the end of a function and marks the point where the function’s execution ends and control is transferred back to the calling code."
      ],
      "metadata": {
        "id": "dh-ldh7nA_0t"
      }
    },
    {
      "cell_type": "code",
      "source": [
        "def add_two_numbers(a,b):\n",
        "  return a+b\n"
      ],
      "metadata": {
        "id": "74sfWJBmCpU_"
      },
      "execution_count": null,
      "outputs": []
    },
    {
      "cell_type": "code",
      "source": [
        "add_two_numbers(1,2)"
      ],
      "metadata": {
        "colab": {
          "base_uri": "https://localhost:8080/"
        },
        "id": "Q_4-GSlCBYNX",
        "outputId": "bb7c8797-3d5e-4ad7-aead-388dfbcacdb1"
      },
      "execution_count": null,
      "outputs": [
        {
          "output_type": "execute_result",
          "data": {
            "text/plain": [
              "3"
            ]
          },
          "metadata": {},
          "execution_count": 3
        }
      ]
    },
    {
      "cell_type": "markdown",
      "source": [
        " 5. What are iterators in Python and how do they differ from iterables?"
      ],
      "metadata": {
        "id": "nGczQFH8Dbnn"
      }
    },
    {
      "cell_type": "markdown",
      "source": [
        "An iterator is an object that allows traversal through a countable number of values. It is used to iterate over iterable objects like lists, tuples, sets, etc.An Iterable is any python object /Sequential structure/data structure that is capable of returning its members one at a time.Permitting it to be iterated over in a for loop."
      ],
      "metadata": {
        "id": "P6Ca3q58DrDr"
      }
    },
    {
      "cell_type": "code",
      "source": [
        "my_list = [1,2,3,4,5]\n",
        "#my_list is an iterable\n",
        "for item in my_list:\n",
        "  print(item)\n",
        "\n",
        "#convert the iterable into an iterate\n",
        "my_iter = iter(my_list)\n",
        "#my_iter is an iterator\n",
        "print(next(my_iter)) #output 1\n",
        "print(next(my_iter)) #output 2\n"
      ],
      "metadata": {
        "colab": {
          "base_uri": "https://localhost:8080/"
        },
        "id": "qKSLTt4vDcMA",
        "outputId": "04bcd25c-157c-449d-851c-e5a8a9b260ae"
      },
      "execution_count": null,
      "outputs": [
        {
          "output_type": "stream",
          "name": "stdout",
          "text": [
            "1\n",
            "2\n",
            "3\n",
            "4\n",
            "5\n",
            "1\n",
            "2\n"
          ]
        }
      ]
    },
    {
      "cell_type": "markdown",
      "source": [
        "6. Explain the concept of generators in Python and how they are defined."
      ],
      "metadata": {
        "id": "L7sW8Tx1Iz6f"
      }
    },
    {
      "cell_type": "markdown",
      "source": [
        "Generators are a simple way to create iterators using functions and the yield keyword instead of returning values.Unlike the return statement, which exits the function, yield returns a value and pauses the function’s state, allowing it to resume from where it left off."
      ],
      "metadata": {
        "id": "QN0bLvGsI6tU"
      }
    },
    {
      "cell_type": "code",
      "source": [
        "#example of yeild\n",
        "def countdown(n):\n",
        "  while n > 0:\n",
        "    yield n\n",
        "    n -= 1\n",
        "\n",
        "for i in countdown(5):\n",
        "  print(i)\n"
      ],
      "metadata": {
        "colab": {
          "base_uri": "https://localhost:8080/"
        },
        "id": "FVh7GmNlvDgH",
        "outputId": "5721abca-6119-44e5-a43f-0971efe092e0"
      },
      "execution_count": null,
      "outputs": [
        {
          "output_type": "stream",
          "name": "stdout",
          "text": [
            "5\n",
            "4\n",
            "3\n",
            "2\n",
            "1\n"
          ]
        }
      ]
    },
    {
      "cell_type": "code",
      "source": [
        "#example of multiple yields\n",
        "def multiple_yields():\n",
        "  yield 1\n",
        "  yield 2\n",
        "  yield 3\n",
        "\n",
        "for i in multiple_yields():\n",
        "  print(i)\n"
      ],
      "metadata": {
        "colab": {
          "base_uri": "https://localhost:8080/"
        },
        "id": "PqcfCy7TvDNT",
        "outputId": "ed5d5ab8-556b-4b89-e8ee-bb96b65ec4f9"
      },
      "execution_count": null,
      "outputs": [
        {
          "output_type": "stream",
          "name": "stdout",
          "text": [
            "1\n",
            "2\n",
            "3\n"
          ]
        }
      ]
    },
    {
      "cell_type": "markdown",
      "source": [
        "7. What are the advantages of using generators over regular functions"
      ],
      "metadata": {
        "id": "H90PN1s1LLKg"
      }
    },
    {
      "cell_type": "markdown",
      "source": [
        "Generators do not store the entire sequence in memory, making them suitable for large datasets or infinite sequence.Using yield simplifies the creation of iterators, making the code more concise and readable.\n"
      ],
      "metadata": {
        "id": "N2Pp25MSLTor"
      }
    },
    {
      "cell_type": "code",
      "source": [
        "def countdown(n):\n",
        "  while n > 0:\n",
        "    yield n\n",
        "    n -= 1"
      ],
      "metadata": {
        "id": "Pn6hlcl-LLrX"
      },
      "execution_count": null,
      "outputs": []
    },
    {
      "cell_type": "code",
      "source": [
        "gen = countdown(5)\n",
        "gen"
      ],
      "metadata": {
        "colab": {
          "base_uri": "https://localhost:8080/"
        },
        "id": "O-OSWXVmLhD8",
        "outputId": "f7b6b6df-3dd7-4fc0-c63c-5e9f9c1ad364"
      },
      "execution_count": null,
      "outputs": [
        {
          "output_type": "execute_result",
          "data": {
            "text/plain": [
              "<generator object countdown at 0x781c5e28bbc0>"
            ]
          },
          "metadata": {},
          "execution_count": 34
        }
      ]
    },
    {
      "cell_type": "code",
      "source": [
        "next(gen)"
      ],
      "metadata": {
        "colab": {
          "base_uri": "https://localhost:8080/"
        },
        "id": "ODC_tRr0Lkew",
        "outputId": "9bbc4a7b-7bd8-417c-bfbd-d50f4fd641a9"
      },
      "execution_count": null,
      "outputs": [
        {
          "output_type": "execute_result",
          "data": {
            "text/plain": [
              "5"
            ]
          },
          "metadata": {},
          "execution_count": 35
        }
      ]
    },
    {
      "cell_type": "code",
      "source": [
        "next(gen)"
      ],
      "metadata": {
        "colab": {
          "base_uri": "https://localhost:8080/"
        },
        "id": "KwDN5dTJL-WT",
        "outputId": "922ccfaf-5c9b-434b-c357-284e9efba0c9"
      },
      "execution_count": null,
      "outputs": [
        {
          "output_type": "execute_result",
          "data": {
            "text/plain": [
              "4"
            ]
          },
          "metadata": {},
          "execution_count": 36
        }
      ]
    },
    {
      "cell_type": "code",
      "source": [
        "next(gen)"
      ],
      "metadata": {
        "colab": {
          "base_uri": "https://localhost:8080/"
        },
        "id": "lmLwHmgPL_s2",
        "outputId": "6b3d9bc7-0cf3-4fa8-b53f-3e64d1b24ae4"
      },
      "execution_count": null,
      "outputs": [
        {
          "output_type": "execute_result",
          "data": {
            "text/plain": [
              "3"
            ]
          },
          "metadata": {},
          "execution_count": 37
        }
      ]
    },
    {
      "cell_type": "code",
      "source": [
        "next(gen)"
      ],
      "metadata": {
        "colab": {
          "base_uri": "https://localhost:8080/"
        },
        "id": "wiBIoLb3MB-s",
        "outputId": "2e350936-4e48-4c9a-fae7-44fa7381cd24"
      },
      "execution_count": null,
      "outputs": [
        {
          "output_type": "execute_result",
          "data": {
            "text/plain": [
              "2"
            ]
          },
          "metadata": {},
          "execution_count": 38
        }
      ]
    },
    {
      "cell_type": "code",
      "source": [
        "next(gen)"
      ],
      "metadata": {
        "colab": {
          "base_uri": "https://localhost:8080/"
        },
        "id": "Z4LbjjNxMDR5",
        "outputId": "1a5d2999-8fb2-4997-a54b-285b8109651e"
      },
      "execution_count": null,
      "outputs": [
        {
          "output_type": "execute_result",
          "data": {
            "text/plain": [
              "1"
            ]
          },
          "metadata": {},
          "execution_count": 39
        }
      ]
    },
    {
      "cell_type": "markdown",
      "source": [
        " 8. What is a lambda function in Python and when is it typically used?"
      ],
      "metadata": {
        "id": "uSX_OHXFMN0g"
      }
    },
    {
      "cell_type": "markdown",
      "source": [
        "Lambda functions are small, anonymous functions defined using the lambda keyword. They are used for creating small, throwaway functions without the need to formally define a function using def"
      ],
      "metadata": {
        "id": "K7QOJxQCMYcs"
      }
    },
    {
      "cell_type": "code",
      "source": [
        "add = lambda x,y: x+y\n",
        "result = add(3,5)\n",
        "print(result)\n"
      ],
      "metadata": {
        "colab": {
          "base_uri": "https://localhost:8080/"
        },
        "id": "LGKE2ebgMY42",
        "outputId": "d0c977ab-ce46-4ed6-d774-76a50623a2a3"
      },
      "execution_count": null,
      "outputs": [
        {
          "output_type": "stream",
          "name": "stdout",
          "text": [
            "8\n"
          ]
        }
      ]
    },
    {
      "cell_type": "code",
      "source": [],
      "metadata": {
        "id": "taMTDz6ZMkqk"
      },
      "execution_count": null,
      "outputs": []
    },
    {
      "cell_type": "markdown",
      "source": [
        " 9. Explain the purpose and usage of the `map()` function in Python."
      ],
      "metadata": {
        "id": "Qh4jMtYGNgd6"
      }
    },
    {
      "cell_type": "markdown",
      "source": [
        "The map function applies a given function to all items in an input iterable (like a list) and returns an iterator with the results.Used to transform each item in an iterable by applying the specified function."
      ],
      "metadata": {
        "id": "NkaJwoKHNoiz"
      }
    },
    {
      "cell_type": "code",
      "source": [
        "number = [1,2,3,4]"
      ],
      "metadata": {
        "id": "QmVyEtpoNg63"
      },
      "execution_count": null,
      "outputs": []
    },
    {
      "cell_type": "code",
      "source": [
        "square = map(lambda x: x**2, number)\n",
        "print(list(square))"
      ],
      "metadata": {
        "colab": {
          "base_uri": "https://localhost:8080/"
        },
        "id": "Rjtr2MNHNvPa",
        "outputId": "0b6159d3-b8de-488f-f272-8a7751b5206c"
      },
      "execution_count": null,
      "outputs": [
        {
          "output_type": "stream",
          "name": "stdout",
          "text": [
            "[1, 4, 9, 16]\n"
          ]
        }
      ]
    },
    {
      "cell_type": "code",
      "source": [],
      "metadata": {
        "id": "i3c_Z_R9N17G"
      },
      "execution_count": null,
      "outputs": []
    },
    {
      "cell_type": "markdown",
      "source": [
        " 10. What is the difference between `map()`, `reduce()`, and `filter()` functions in Python?"
      ],
      "metadata": {
        "id": "PB8FikVBOK6D"
      }
    },
    {
      "cell_type": "markdown",
      "source": [
        "map(): Transforms every element in a list using a given function.\n",
        "filter(): Selects elements from a list based on specified conditions.\n",
        "reduce(): Reduces all elements in a list to a single value using a specified function123."
      ],
      "metadata": {
        "id": "-Z53ZGheOUqe"
      }
    },
    {
      "cell_type": "code",
      "source": [
        "number = [1,2,3,4] #Maps\n",
        "square = map(lambda x:x**2, number)\n",
        "print(list(square))"
      ],
      "metadata": {
        "colab": {
          "base_uri": "https://localhost:8080/"
        },
        "id": "BE3AfAg3OVCu",
        "outputId": "b9ae3f0d-5f77-4d09-fa7f-566cccb59852"
      },
      "execution_count": null,
      "outputs": [
        {
          "output_type": "stream",
          "name": "stdout",
          "text": [
            "[1, 4, 9, 16]\n"
          ]
        }
      ]
    },
    {
      "cell_type": "code",
      "source": [
        "number = [1,2,3,4] #reduce\n",
        "from functools import reduce\n",
        "sum_of_numbers = reduce(lambda x,y:x+y, number)\n",
        "print(sum_of_numbers)"
      ],
      "metadata": {
        "colab": {
          "base_uri": "https://localhost:8080/"
        },
        "id": "t6XJE4b9RrVl",
        "outputId": "a3243771-8f61-4d13-aebc-3a0bb65df2e5"
      },
      "execution_count": null,
      "outputs": [
        {
          "output_type": "stream",
          "name": "stdout",
          "text": [
            "10\n"
          ]
        }
      ]
    },
    {
      "cell_type": "code",
      "source": [
        "number = [1,2,3,4,5] #Filter\n",
        "even = filter(lambda x:x%2==0, number)\n",
        "print(list(even))"
      ],
      "metadata": {
        "colab": {
          "base_uri": "https://localhost:8080/"
        },
        "id": "LUkKoLE4R2to",
        "outputId": "5adefa97-cc89-4303-9cba-631633ab5eab"
      },
      "execution_count": null,
      "outputs": [
        {
          "output_type": "stream",
          "name": "stdout",
          "text": [
            "[2, 4]\n"
          ]
        }
      ]
    },
    {
      "cell_type": "code",
      "source": [
        "#Q11. Using pen & Paper write the internal mechanism for sum operation using  reduce function on this given\n",
        "list:[47,11,42,13];\n",
        "\n",
        "#example using reduce function of list [47,11,42,13];\n",
        "from functools import reduce\n",
        "numbers = [47,11,42,13]\n",
        "sum_result = reduce(lambda x,y: x+y, numbers)\n",
        "print(sum_result)"
      ],
      "metadata": {
        "colab": {
          "base_uri": "https://localhost:8080/"
        },
        "id": "hBXuN7k24MI8",
        "outputId": "15ac22b2-24c1-4edd-f643-44b43aca554a"
      },
      "execution_count": null,
      "outputs": [
        {
          "output_type": "stream",
          "name": "stdout",
          "text": [
            "113\n"
          ]
        }
      ]
    },
    {
      "cell_type": "markdown",
      "source": [
        "Practical Questions:\n",
        " 1. Write a Python function that takes a list of numbers as input and returns the sum of all even numbers in\n",
        "the list."
      ],
      "metadata": {
        "id": "UeoAANd3Vgr4"
      }
    },
    {
      "cell_type": "code",
      "source": [
        "def sum_of_even_numbers(numbers):\n",
        "  sum_even = 0\n",
        "  for num in numbers:\n",
        "    if num % 2 == 0:\n",
        "      sum_even += num\n",
        "      return sum_even\n",
        "\n",
        "\n",
        "\n",
        "numbers_list = [1,2,3,4,5,6]\n",
        "result = sum_of_even_numbers(numbers_list)\n",
        "print(result)"
      ],
      "metadata": {
        "id": "Go6lNyhHM_YA",
        "colab": {
          "base_uri": "https://localhost:8080/"
        },
        "outputId": "3d7a355e-405a-4feb-d1dd-d33c2e52127e"
      },
      "execution_count": null,
      "outputs": [
        {
          "output_type": "stream",
          "name": "stdout",
          "text": [
            "2\n"
          ]
        }
      ]
    },
    {
      "cell_type": "markdown",
      "source": [
        " 2. Create a Python function that accepts a string and returns the reverse of that string."
      ],
      "metadata": {
        "id": "1KgpmDShFP8j"
      }
    },
    {
      "cell_type": "code",
      "source": [
        "def reverse_string(str):\n",
        "    str1 =\"\"\n",
        "    for i in str:\n",
        "         str1 = i + str1\n",
        "    return str1"
      ],
      "metadata": {
        "id": "LAE2sIwPFQS6"
      },
      "execution_count": null,
      "outputs": []
    },
    {
      "cell_type": "code",
      "source": [
        "str = \"pwskills\"\n",
        "print(reverse_string(str))"
      ],
      "metadata": {
        "colab": {
          "base_uri": "https://localhost:8080/"
        },
        "id": "3uj7zZzeOf4j",
        "outputId": "7952e989-098f-4efc-8b9e-2ce6c2f605a2"
      },
      "execution_count": null,
      "outputs": [
        {
          "output_type": "stream",
          "name": "stdout",
          "text": [
            "sllikswp\n"
          ]
        }
      ]
    },
    {
      "cell_type": "markdown",
      "source": [
        " 3. Implement a Python function that takes a list of integers and returns a new list containing the squares of\n",
        "each number"
      ],
      "metadata": {
        "id": "G3MpwxdFFRKF"
      }
    },
    {
      "cell_type": "code",
      "source": [
        "def square(x):\n",
        "  return x*x"
      ],
      "metadata": {
        "id": "4RwitB2fFTR2"
      },
      "execution_count": null,
      "outputs": []
    },
    {
      "cell_type": "code",
      "source": [
        "map(square,range(1,10))\n",
        "print(list(map(square,range(1,10))))"
      ],
      "metadata": {
        "colab": {
          "base_uri": "https://localhost:8080/"
        },
        "id": "lEuQuvqaQsTg",
        "outputId": "02b4dfce-7c06-4b27-a347-a35b3d82ba1e"
      },
      "execution_count": null,
      "outputs": [
        {
          "output_type": "stream",
          "name": "stdout",
          "text": [
            "[1, 4, 9, 16, 25, 36, 49, 64, 81]\n"
          ]
        }
      ]
    },
    {
      "cell_type": "markdown",
      "source": [
        "4. Write a Python function that checks if a given number is prime or not from 1 to 200"
      ],
      "metadata": {
        "id": "dvVW21NtFW4a"
      }
    },
    {
      "cell_type": "code",
      "source": [
        "def is_prime(num):\n",
        "    if num <= 1:\n",
        "        return False\n",
        "    for i in range(2, int(num**0.5) + 1):\n",
        "        if num % i == 0:\n",
        "            return False\n",
        "    return True\n",
        "\n",
        "\n",
        "for number in range(1, 201):\n",
        "    if is_prime(number):\n",
        "        print(f\"{number} is a prime number\")\n",
        "    else:\n",
        "        print(f\"{number} is not a prime number\")\n"
      ],
      "metadata": {
        "colab": {
          "base_uri": "https://localhost:8080/"
        },
        "collapsed": true,
        "id": "WNnyxcMuFXOt",
        "outputId": "d0542f94-4d3a-4927-ee74-39d41fc6fbb8"
      },
      "execution_count": null,
      "outputs": [
        {
          "output_type": "stream",
          "name": "stdout",
          "text": [
            "1 is not a prime number\n",
            "2 is a prime number\n",
            "3 is a prime number\n",
            "4 is not a prime number\n",
            "5 is a prime number\n",
            "6 is not a prime number\n",
            "7 is a prime number\n",
            "8 is not a prime number\n",
            "9 is not a prime number\n",
            "10 is not a prime number\n",
            "11 is a prime number\n",
            "12 is not a prime number\n",
            "13 is a prime number\n",
            "14 is not a prime number\n",
            "15 is not a prime number\n",
            "16 is not a prime number\n",
            "17 is a prime number\n",
            "18 is not a prime number\n",
            "19 is a prime number\n",
            "20 is not a prime number\n",
            "21 is not a prime number\n",
            "22 is not a prime number\n",
            "23 is a prime number\n",
            "24 is not a prime number\n",
            "25 is not a prime number\n",
            "26 is not a prime number\n",
            "27 is not a prime number\n",
            "28 is not a prime number\n",
            "29 is a prime number\n",
            "30 is not a prime number\n",
            "31 is a prime number\n",
            "32 is not a prime number\n",
            "33 is not a prime number\n",
            "34 is not a prime number\n",
            "35 is not a prime number\n",
            "36 is not a prime number\n",
            "37 is a prime number\n",
            "38 is not a prime number\n",
            "39 is not a prime number\n",
            "40 is not a prime number\n",
            "41 is a prime number\n",
            "42 is not a prime number\n",
            "43 is a prime number\n",
            "44 is not a prime number\n",
            "45 is not a prime number\n",
            "46 is not a prime number\n",
            "47 is a prime number\n",
            "48 is not a prime number\n",
            "49 is not a prime number\n",
            "50 is not a prime number\n",
            "51 is not a prime number\n",
            "52 is not a prime number\n",
            "53 is a prime number\n",
            "54 is not a prime number\n",
            "55 is not a prime number\n",
            "56 is not a prime number\n",
            "57 is not a prime number\n",
            "58 is not a prime number\n",
            "59 is a prime number\n",
            "60 is not a prime number\n",
            "61 is a prime number\n",
            "62 is not a prime number\n",
            "63 is not a prime number\n",
            "64 is not a prime number\n",
            "65 is not a prime number\n",
            "66 is not a prime number\n",
            "67 is a prime number\n",
            "68 is not a prime number\n",
            "69 is not a prime number\n",
            "70 is not a prime number\n",
            "71 is a prime number\n",
            "72 is not a prime number\n",
            "73 is a prime number\n",
            "74 is not a prime number\n",
            "75 is not a prime number\n",
            "76 is not a prime number\n",
            "77 is not a prime number\n",
            "78 is not a prime number\n",
            "79 is a prime number\n",
            "80 is not a prime number\n",
            "81 is not a prime number\n",
            "82 is not a prime number\n",
            "83 is a prime number\n",
            "84 is not a prime number\n",
            "85 is not a prime number\n",
            "86 is not a prime number\n",
            "87 is not a prime number\n",
            "88 is not a prime number\n",
            "89 is a prime number\n",
            "90 is not a prime number\n",
            "91 is not a prime number\n",
            "92 is not a prime number\n",
            "93 is not a prime number\n",
            "94 is not a prime number\n",
            "95 is not a prime number\n",
            "96 is not a prime number\n",
            "97 is a prime number\n",
            "98 is not a prime number\n",
            "99 is not a prime number\n",
            "100 is not a prime number\n",
            "101 is a prime number\n",
            "102 is not a prime number\n",
            "103 is a prime number\n",
            "104 is not a prime number\n",
            "105 is not a prime number\n",
            "106 is not a prime number\n",
            "107 is a prime number\n",
            "108 is not a prime number\n",
            "109 is a prime number\n",
            "110 is not a prime number\n",
            "111 is not a prime number\n",
            "112 is not a prime number\n",
            "113 is a prime number\n",
            "114 is not a prime number\n",
            "115 is not a prime number\n",
            "116 is not a prime number\n",
            "117 is not a prime number\n",
            "118 is not a prime number\n",
            "119 is not a prime number\n",
            "120 is not a prime number\n",
            "121 is not a prime number\n",
            "122 is not a prime number\n",
            "123 is not a prime number\n",
            "124 is not a prime number\n",
            "125 is not a prime number\n",
            "126 is not a prime number\n",
            "127 is a prime number\n",
            "128 is not a prime number\n",
            "129 is not a prime number\n",
            "130 is not a prime number\n",
            "131 is a prime number\n",
            "132 is not a prime number\n",
            "133 is not a prime number\n",
            "134 is not a prime number\n",
            "135 is not a prime number\n",
            "136 is not a prime number\n",
            "137 is a prime number\n",
            "138 is not a prime number\n",
            "139 is a prime number\n",
            "140 is not a prime number\n",
            "141 is not a prime number\n",
            "142 is not a prime number\n",
            "143 is not a prime number\n",
            "144 is not a prime number\n",
            "145 is not a prime number\n",
            "146 is not a prime number\n",
            "147 is not a prime number\n",
            "148 is not a prime number\n",
            "149 is a prime number\n",
            "150 is not a prime number\n",
            "151 is a prime number\n",
            "152 is not a prime number\n",
            "153 is not a prime number\n",
            "154 is not a prime number\n",
            "155 is not a prime number\n",
            "156 is not a prime number\n",
            "157 is a prime number\n",
            "158 is not a prime number\n",
            "159 is not a prime number\n",
            "160 is not a prime number\n",
            "161 is not a prime number\n",
            "162 is not a prime number\n",
            "163 is a prime number\n",
            "164 is not a prime number\n",
            "165 is not a prime number\n",
            "166 is not a prime number\n",
            "167 is a prime number\n",
            "168 is not a prime number\n",
            "169 is not a prime number\n",
            "170 is not a prime number\n",
            "171 is not a prime number\n",
            "172 is not a prime number\n",
            "173 is a prime number\n",
            "174 is not a prime number\n",
            "175 is not a prime number\n",
            "176 is not a prime number\n",
            "177 is not a prime number\n",
            "178 is not a prime number\n",
            "179 is a prime number\n",
            "180 is not a prime number\n",
            "181 is a prime number\n",
            "182 is not a prime number\n",
            "183 is not a prime number\n",
            "184 is not a prime number\n",
            "185 is not a prime number\n",
            "186 is not a prime number\n",
            "187 is not a prime number\n",
            "188 is not a prime number\n",
            "189 is not a prime number\n",
            "190 is not a prime number\n",
            "191 is a prime number\n",
            "192 is not a prime number\n",
            "193 is a prime number\n",
            "194 is not a prime number\n",
            "195 is not a prime number\n",
            "196 is not a prime number\n",
            "197 is a prime number\n",
            "198 is not a prime number\n",
            "199 is a prime number\n",
            "200 is not a prime number\n"
          ]
        }
      ]
    },
    {
      "cell_type": "markdown",
      "source": [
        " 5. Create an iterator class in Python that generates the Fibonacci sequence up to a specified number of\n",
        "terms."
      ],
      "metadata": {
        "id": "z2zY0OMvFYKX"
      }
    },
    {
      "cell_type": "code",
      "source": [
        "class FibonacciIterator:\n",
        "    def __init__(self, max_terms):\n",
        "        self.max_terms = max_terms\n",
        "        self.a = 0\n",
        "        self.b = 1\n",
        "        self.count = 0\n",
        "\n",
        "    def __iter__(self):\n",
        "        return self\n",
        "\n",
        "    def __next__(self):\n",
        "        if self.count >= self.max_terms:\n",
        "            raise StopIteration\n",
        "        current_term = self.a\n",
        "        self.a, self.b = self.b, self.a + self.b\n",
        "        self.count += 1\n",
        "        return current_term\n",
        "\n",
        "\n",
        "# Example usage\n",
        "max_terms = 10  # Specify the number of Fibonacci terms you want\n",
        "fib_iterator = FibonacciIterator(max_terms)\n",
        "for term in fib_iterator:\n",
        "    print(term)\n"
      ],
      "metadata": {
        "id": "pSVTMRwAFeXa",
        "colab": {
          "base_uri": "https://localhost:8080/"
        },
        "outputId": "e94d16c5-608b-46a0-ea42-dde769a871f8"
      },
      "execution_count": null,
      "outputs": [
        {
          "output_type": "stream",
          "name": "stdout",
          "text": [
            "0\n",
            "1\n",
            "1\n",
            "2\n",
            "3\n",
            "5\n",
            "8\n",
            "13\n",
            "21\n",
            "34\n"
          ]
        }
      ]
    },
    {
      "cell_type": "markdown",
      "source": [
        "6. Write a generator function in Python that yields the powers of 2 up to a given exponent"
      ],
      "metadata": {
        "id": "7tI5aqdBFddH"
      }
    },
    {
      "cell_type": "code",
      "source": [
        "def power_generator(base, exponent):\n",
        "    result = 1\n",
        "    for i in range(exponent + 1):\n",
        "        yield result\n",
        "        result *= base\n",
        "\n",
        "base = int(input(\"Input the base number: \"))\n",
        "exponent = int(input(\"Input the exponent: \"))\n",
        "\n",
        "\n",
        "power_gen = power_generator(base, exponent)\n",
        "\n",
        "print(f\"Powers of {base} up to exponent {exponent}:\")\n",
        "for power in power_gen:\n",
        "    print(power)\n"
      ],
      "metadata": {
        "colab": {
          "base_uri": "https://localhost:8080/"
        },
        "id": "KmSvWyzTVkx6",
        "outputId": "3e1486ce-4f07-49bc-b6c0-bc1a695b598d"
      },
      "execution_count": null,
      "outputs": [
        {
          "output_type": "stream",
          "name": "stdout",
          "text": [
            "Input the base number: 2\n",
            "Input the exponent: 4\n",
            "Powers of 2 up to exponent 4:\n",
            "1\n",
            "2\n",
            "4\n",
            "8\n",
            "16\n"
          ]
        }
      ]
    },
    {
      "cell_type": "markdown",
      "source": [
        " 7. Implement a generator function that reads a file line by line and yields each line as a string."
      ],
      "metadata": {
        "id": "2V9icYxaFhrO"
      }
    },
    {
      "cell_type": "code",
      "source": [
        "L = [\"Geeks\\n\", \"for\\n\", \"Geeks\\n\"]\n",
        "\n",
        "file1 = open('myfile.txt', 'w')\n",
        "file1.writelines(L)\n",
        "file1.close()\n",
        "\n",
        "\n",
        "file1 = open('myfile.txt', 'r')\n",
        "Lines = file1.readlines()\n",
        "\n",
        "count = 0\n",
        "for line in Lines:\n",
        "    count += 1\n",
        "    print(\"Line{}: {}\".format(count, line.strip()))"
      ],
      "metadata": {
        "colab": {
          "base_uri": "https://localhost:8080/"
        },
        "id": "_axrR2x-EhYj",
        "outputId": "2b050bca-ea23-42ba-c7e6-c83137159388"
      },
      "execution_count": null,
      "outputs": [
        {
          "output_type": "stream",
          "name": "stdout",
          "text": [
            "Line1: Geeks\n",
            "Line2: for\n",
            "Line3: Geeks\n"
          ]
        }
      ]
    },
    {
      "cell_type": "markdown",
      "source": [
        "8. Use a lambda function in Python to sort a list of tuples based on the second element of each tuple"
      ],
      "metadata": {
        "id": "1eol4JGTFkLd"
      }
    },
    {
      "cell_type": "code",
      "source": [
        "\n",
        "list_of_tuples = [('apple', 2), ('banana', 8), ('cherry', 5)]\n",
        "\n",
        "sorted_list = sorted(list_of_tuples, key=lambda x: x[1])\n",
        "\n",
        "print(sorted_list)\n"
      ],
      "metadata": {
        "id": "cQHPIxFSFmOs",
        "colab": {
          "base_uri": "https://localhost:8080/"
        },
        "outputId": "6aed5bb8-36f5-4878-8643-0c2087ee9ada"
      },
      "execution_count": null,
      "outputs": [
        {
          "output_type": "stream",
          "name": "stdout",
          "text": [
            "[('apple', 2), ('cherry', 5), ('banana', 8)]\n"
          ]
        }
      ]
    },
    {
      "cell_type": "markdown",
      "source": [
        "9. Write a Python program that uses `map()` to convert a list of temperatures from Celsius to Fahrenheit."
      ],
      "metadata": {
        "id": "toqTQgzCFmzi"
      }
    },
    {
      "cell_type": "code",
      "source": [
        "\n",
        "def celsius_to_fahrenheit(celsius):\n",
        "    return (celsius * 9/5) + 32\n",
        "\n",
        "celsius_temperatures = [0, 20, 37, 100]\n",
        "\n",
        "fahrenheit_temperatures = list(map(celsius_to_fahrenheit, celsius_temperatures))\n",
        "\n",
        "print(\"Temperatures in Fahrenheit:\", fahrenheit_temperatures)\n"
      ],
      "metadata": {
        "id": "WBJ8gFS4Fo52",
        "colab": {
          "base_uri": "https://localhost:8080/"
        },
        "outputId": "b85b29b1-2a5a-48fd-c593-ef467f31c642"
      },
      "execution_count": null,
      "outputs": [
        {
          "output_type": "stream",
          "name": "stdout",
          "text": [
            "Temperatures in Fahrenheit: [32.0, 68.0, 98.6, 212.0]\n"
          ]
        }
      ]
    },
    {
      "cell_type": "markdown",
      "source": [
        "10. Create a Python program that uses `filter()` to remove all the vowels from a given string"
      ],
      "metadata": {
        "id": "ZKLVzwT8Fpn3"
      }
    },
    {
      "cell_type": "code",
      "source": [
        "def remove_vowels(char):\n",
        "  vowels = ['a','e','i','o','u','A','E','I','O','U']\n",
        "  return char not in vowels\n",
        "\n",
        "#given string\n",
        "input_string = \"Hello, World!\"\n",
        "\n",
        "#use filter()to remove vowels from the string\n",
        "filtered_string = ''.join(filter(remove_vowels, input_string))\n",
        "print(filtered_string)"
      ],
      "metadata": {
        "colab": {
          "base_uri": "https://localhost:8080/"
        },
        "id": "fbjm9HIHJEMm",
        "outputId": "e26cb35f-08d7-4aef-f3ed-ecc33bb9e806"
      },
      "execution_count": null,
      "outputs": [
        {
          "output_type": "stream",
          "name": "stdout",
          "text": [
            "Hll, Wrld!\n"
          ]
        }
      ]
    },
    {
      "cell_type": "markdown",
      "source": [
        " 11) Imagine an accounting routine used in a book shop. It works on a list with sublists, which look like this"
      ],
      "metadata": {
        "id": "h32jJp0lFydO"
      }
    },
    {
      "cell_type": "code",
      "source": [
        "#order number        Book title and author         quantity       price per item\n",
        "#34587             learnining python, mark lutz       4             40.95\n",
        "#98762           programming python, mark lutz        5             56.80\n",
        "#77226           head first python, paul barry        3             32.95\n",
        "#88112          einfiihrung in python3,bernd klein    3             24.99"
      ],
      "metadata": {
        "id": "-N2XwGOgFr52"
      },
      "execution_count": null,
      "outputs": []
    },
    {
      "cell_type": "markdown",
      "source": [
        " Write a Python program, which returns a list with 2-tuples. Each tuple consists of the order number and the\n",
        "product of the price per item and the quantity. The product should be increased by 10,- € if the value of the\n",
        "order is smaller than 100,00 €.\n",
        " Write a Python program using lambda and map."
      ],
      "metadata": {
        "id": "AXcJD2PC4CyV"
      }
    },
    {
      "cell_type": "code",
      "source": [
        "orders = [ \"34587\",\"learnining python, mark lutz\",\"4\",\"40.95\"],[ \"98762\",\"programming python, mark lutz\",\"5\",\"56.80\"],[ \"77226\",\"head first python, paul barry\",\"3\",\"32.95\"],[\"88112\",\"einfiihrung in python3,bernd klein\",\"3\",\"24.99\"]\n",
        "\n",
        "min_order_total = 100.00\n",
        "\n",
        "result = []\n",
        "\n",
        "for order in orders:\n",
        "  order_number = order[0]\n",
        "  quantity = int(order[2])\n",
        "  price_per_item = float(order[3])\n",
        "\n",
        "  subtotal = quantity * price_per_item\n",
        "\n",
        "  if subtotal < min_order_total:\n",
        "    subtotal += 10\n",
        "\n",
        "  result.append((order_number, subtotal))\n",
        "\n",
        "print(result)"
      ],
      "metadata": {
        "colab": {
          "base_uri": "https://localhost:8080/"
        },
        "id": "ry5wI7Ek3ifP",
        "outputId": "a370180e-856b-40d5-94a4-9eda4a82384b"
      },
      "execution_count": null,
      "outputs": [
        {
          "output_type": "stream",
          "name": "stdout",
          "text": [
            "[('34587', 163.8), ('98762', 284.0), ('77226', 108.85000000000001), ('88112', 84.97)]\n"
          ]
        }
      ]
    },
    {
      "cell_type": "code",
      "source": [],
      "metadata": {
        "id": "eCmom-MzF5mb"
      },
      "execution_count": null,
      "outputs": []
    }
  ]
}